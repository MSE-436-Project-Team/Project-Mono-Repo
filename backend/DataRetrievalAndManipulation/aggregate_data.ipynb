{
 "cells": [
  {
   "cell_type": "code",
   "execution_count": 1,
   "id": "9d20dfac",
   "metadata": {},
   "outputs": [],
   "source": [
    "import pandas as pd\n",
    "import numpy as np\n",
    "import os"
   ]
  },
  {
   "cell_type": "code",
   "execution_count": 2,
   "id": "46d5e0e4",
   "metadata": {},
   "outputs": [],
   "source": [
    "def find_backend_dir(start_path=None):\n",
    "    \"\"\"\n",
    "    Walk up directories from start_path (or cwd) until a folder named 'backend' is found.\n",
    "    Returns the absolute path to the 'backend' folder.\n",
    "    \"\"\"\n",
    "    if start_path is None:\n",
    "        start_path = os.getcwd()\n",
    "    curr_path = os.path.abspath(start_path)\n",
    "    while True:\n",
    "        # Check if 'backend' exists in this directory\n",
    "        candidate = os.path.join(curr_path, \"backend\")\n",
    "        if os.path.isdir(candidate):\n",
    "            return candidate\n",
    "        # If at filesystem root, stop\n",
    "        parent = os.path.dirname(curr_path)\n",
    "        if curr_path == parent:\n",
    "            break\n",
    "        curr_path = parent\n",
    "    raise FileNotFoundError(f\"No 'backend' directory found upward from {start_path}\")\n",
    "\n",
    "# Find the backend directory and CSV folder\n",
    "backend_dir = find_backend_dir()\n",
    "csv_dir = os.path.join(backend_dir, \"CSVs\")"
   ]
  },
  {
   "cell_type": "code",
   "execution_count": 3,
   "id": "b9845369",
   "metadata": {},
   "outputs": [],
   "source": [
    "df = pd.read_csv(csv_dir+\"/final_nba_dataset.csv\", parse_dates=[\"Date\"])"
   ]
  },
  {
   "cell_type": "code",
   "execution_count": 4,
   "id": "10fb6aed",
   "metadata": {},
   "outputs": [],
   "source": [
    "def get_season_id(date):\n",
    "    y = date.year\n",
    "    # NBA season: Oct–June; season name is start_year-end_year_short\n",
    "    return f\"{y}-{str(y+1)[-2:]}\" if date.month >= 10 else f\"{y-1}-{str(y)[-2:]}\"\n",
    "df[\"SEASON_ID\"] = df[\"Date\"].apply(get_season_id)"
   ]
  },
  {
   "cell_type": "code",
   "execution_count": 5,
   "id": "5e941774",
   "metadata": {},
   "outputs": [
    {
     "name": "stdout",
     "output_type": "stream",
     "text": [
      "Season IDs in dataset: ['2003-04' '2004-05' '2005-06' '2006-07' '2007-08' '2008-09' '2009-10'\n",
      " '2010-11' '2011-12' '2012-13' '2013-14' '2014-15' '2015-16' '2016-17'\n",
      " '2017-18' '2018-19' '2019-20' '2020-21' '2021-22' '2022-23' '2023-24'\n",
      " '2024-25']\n"
     ]
    }
   ],
   "source": [
    "# All season IDs in the dataset\n",
    "season_ids = df[\"SEASON_ID\"].unique()\n",
    "print(\"Season IDs in dataset:\", season_ids)"
   ]
  },
  {
   "cell_type": "code",
   "execution_count": 6,
   "id": "a4a60291",
   "metadata": {},
   "outputs": [],
   "source": [
    "per_game_numeric = [\n",
    "    'Points', 'Minutes', 'FGM', 'FGA', 'FG%', '3PM', '3PA', '3P%', 'FTM', 'FTA', 'FT%',\n",
    "    'OREB', 'DREB', 'REB', 'AST', 'TO', 'STL', 'BLK', 'PF', 'GAME_EFFICIENCY', 'TRUE_SHOOTING_PCT', 'USAGE_RATE'\n",
    "]\n",
    "rolling = [\n",
    "    'Points_5G_AVG', 'REB_5G_AVG', 'AST_5G_AVG', 'STL_5G_AVG', 'BLK_5G_AVG', 'TO_5G_AVG', 'Minutes_5G_AVG', 'GAME_EFFICIENCY_5G_AVG',\n",
    "    'Points_10G_AVG', 'REB_10G_AVG', 'AST_10G_AVG', 'STL_10G_AVG', 'BLK_10G_AVG', 'TO_10G_AVG', 'Minutes_10G_AVG', 'GAME_EFFICIENCY_10G_AVG'\n",
    "]\n",
    "bools = [\n",
    "    'IS_STARTER', 'IS_HOME', 'IS_WIN', 'IS_PLAYOFFS', 'IS_B2B'\n",
    "]\n",
    "workload = ['GAMES_LAST_30D']\n",
    "\n",
    "seasonal_onehots = ['SEASON_Autumn', 'SEASON_Winter', 'SEASON_Spring']\n",
    "\n",
    "# These are effectively static for a season but you can keep the 'last' value\n",
    "static_feats = [\n",
    "    'AGE', 'EXPERIENCE_YEARS', 'HEIGHT_INCHES', 'WEIGHT', 'BMI', 'DRAFT_POSITION', 'TOP_10_PICK', 'LOTTERY_PICK', 'POSITION_CATEGORY'\n",
    "]"
   ]
  },
  {
   "cell_type": "code",
   "execution_count": 7,
   "id": "2581b174",
   "metadata": {},
   "outputs": [],
   "source": [
    "agg_dict = {c: 'mean' for c in per_game_numeric + rolling + bools + workload}\n",
    "agg_dict.update({c: 'max' for c in seasonal_onehots})  # or 'any'\n",
    "agg_dict.update({c: 'last' for c in static_feats})"
   ]
  },
  {
   "cell_type": "code",
   "execution_count": 8,
   "id": "2c979785",
   "metadata": {},
   "outputs": [],
   "source": [
    "season_feats = (\n",
    "    df.groupby(['PERSON_ID', 'SEASON_ID']).agg(agg_dict).reset_index()\n",
    ")"
   ]
  },
  {
   "cell_type": "code",
   "execution_count": 9,
   "id": "5f949eeb",
   "metadata": {},
   "outputs": [],
   "source": [
    "target_stats = [\n",
    "    'Points', 'FTM', 'FTA', 'FGM', 'FGA', 'TO', 'STL', 'BLK', 'PF', 'USAGE_RATE', 'OREB', 'DREB', 'AST', 'REB', 'Minutes', '3PM', '3PA', '3P%', 'FT%', 'FG%', 'GAME_EFFICIENCY'\n",
    "]"
   ]
  },
  {
   "cell_type": "code",
   "execution_count": 10,
   "id": "7bd67840",
   "metadata": {},
   "outputs": [],
   "source": [
    "for stat in target_stats:\n",
    "    season_feats[f\"next_{stat}\"] = (\n",
    "        season_feats.sort_values([\"PERSON_ID\", \"SEASON_ID\"])\n",
    "        .groupby(\"PERSON_ID\")[stat].shift(-1)\n",
    "    )"
   ]
  },
  {
   "cell_type": "code",
   "execution_count": null,
   "id": "76c4f9d0",
   "metadata": {},
   "outputs": [
    {
     "name": "stdout",
     "output_type": "stream",
     "text": [
      "Latest season: 2024-25\n"
     ]
    }
   ],
   "source": [
    "# --- Archive all seasons ---\n",
    "for season_id, season_df in season_feats.groupby(\"SEASON_ID\"):\n",
    "    season_df.to_csv(os.path.join(csv_dir, f\"season_features_{season_id}.csv\"), index=False)\n",
    "\n",
    "# --- Latest season features for live inference ---\n",
    "features_only_cols = [col for col in season_feats.columns if not col.startswith(\"next_\")]\n",
    "latest_season = season_feats[\"SEASON_ID\"].max()\n",
    "latest_season_features = season_feats[season_feats[\"SEASON_ID\"] == latest_season][features_only_cols]\n",
    "latest_season_features.to_csv(os.path.join(csv_dir, \"latest_season_features_for_inference.csv\"), index=False)\n",
    "\n",
    "# --- NOW drop rows with NaN next season targets for training ---\n",
    "season_feats = season_feats.dropna(subset=[f'next_{s}' for s in target_stats])\n",
    "\n",
    "# Continue as before...\n",
    "season_feats['PERSON_ID'] = season_feats['PERSON_ID'].astype(int)\n",
    "train = season_feats[season_feats[\"SEASON_ID\"] < \"2023-24\"]\n",
    "test  = season_feats[season_feats[\"SEASON_ID\"] == \"2023-24\"]\n",
    "\n",
    "train.to_csv(csv_dir+\"/train_season_features.csv\", index=False)\n",
    "test.to_csv(csv_dir+\"/test_season_features.csv\", index=False)\n"
   ]
  }
 ],
 "metadata": {
  "kernelspec": {
   "display_name": ".venv",
   "language": "python",
   "name": "python3"
  },
  "language_info": {
   "codemirror_mode": {
    "name": "ipython",
    "version": 3
   },
   "file_extension": ".py",
   "mimetype": "text/x-python",
   "name": "python",
   "nbconvert_exporter": "python",
   "pygments_lexer": "ipython3",
   "version": "3.13.2"
  }
 },
 "nbformat": 4,
 "nbformat_minor": 5
}
